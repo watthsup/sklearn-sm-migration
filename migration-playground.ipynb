{
 "cells": [
  {
   "cell_type": "markdown",
   "id": "925c37f8-318a-4fb2-bc4a-c1edb97e3447",
   "metadata": {},
   "source": [
    "# Import dependencies"
   ]
  },
  {
   "cell_type": "code",
   "execution_count": 41,
   "id": "4ce006a6-36e6-4f34-b030-7c358da70c61",
   "metadata": {
    "tags": []
   },
   "outputs": [],
   "source": [
    "import boto3\n",
    "import sagemaker\n",
    "from sagemaker import get_execution_role\n",
    "from time import strftime, gmtime\n",
    "import subprocess\n",
    "import time\n",
    "import json"
   ]
  },
  {
   "cell_type": "markdown",
   "id": "4b50803c-5705-4e1e-be11-af0bfcacd085",
   "metadata": {},
   "source": [
    "# Init S3 and Sagemaker Session"
   ]
  },
  {
   "cell_type": "code",
   "execution_count": 9,
   "id": "f78e0d08-577a-4b26-8e99-e834a5822e76",
   "metadata": {
    "tags": []
   },
   "outputs": [],
   "source": [
    "boto_session = boto3.session.Session() # To get general info about session\n",
    "sagemaker_session= sagemaker.Session()"
   ]
  },
  {
   "cell_type": "code",
   "execution_count": 10,
   "id": "28850c50-562f-44ab-a09e-8ea9b14bb3d0",
   "metadata": {
    "tags": []
   },
   "outputs": [
    {
     "data": {
      "text/plain": [
       "'ap-southeast-1'"
      ]
     },
     "execution_count": 10,
     "metadata": {},
     "output_type": "execute_result"
    }
   ],
   "source": [
    "region = boto_session.region_name\n",
    "region"
   ]
  },
  {
   "cell_type": "code",
   "execution_count": 11,
   "id": "bc69cd96-076b-4a45-8467-cd46807f4e55",
   "metadata": {
    "tags": []
   },
   "outputs": [
    {
     "data": {
      "text/plain": [
       "'arn:aws:iam::405392309789:role/sagemaker-risk-role'"
      ]
     },
     "execution_count": 11,
     "metadata": {},
     "output_type": "execute_result"
    }
   ],
   "source": [
    "role = get_execution_role()\n",
    "role"
   ]
  },
  {
   "cell_type": "markdown",
   "id": "8418be90-96bf-4002-8a61-ded839406424",
   "metadata": {},
   "source": [
    "# Define bucket for uploading model artifacts (Sagmaker Default Bucket)"
   ]
  },
  {
   "cell_type": "code",
   "execution_count": 12,
   "id": "02c56c32-d88c-4f21-99bc-69166d9fe095",
   "metadata": {
    "tags": []
   },
   "outputs": [],
   "source": [
    "default_bucket = sagemaker_session.default_bucket()"
   ]
  },
  {
   "cell_type": "code",
   "execution_count": 13,
   "id": "a5f116a1-bb33-4f11-9d55-1ff19cf8c880",
   "metadata": {
    "tags": []
   },
   "outputs": [
    {
     "data": {
      "text/plain": [
       "'sagemaker-ap-southeast-1-405392309789'"
      ]
     },
     "execution_count": 13,
     "metadata": {},
     "output_type": "execute_result"
    }
   ],
   "source": [
    "default_bucket"
   ]
  },
  {
   "cell_type": "markdown",
   "id": "6d622619-e0c5-4fc2-b2ba-7939e9a1bf33",
   "metadata": {
    "tags": []
   },
   "source": [
    "# Create s3 and sagemaker client instance"
   ]
  },
  {
   "cell_type": "code",
   "execution_count": 14,
   "id": "e4490229-2364-4743-a023-287fc66654be",
   "metadata": {
    "tags": []
   },
   "outputs": [],
   "source": [
    "s3_client = boto_session.resource('s3') # Useful for accessing the s3 bucket\n",
    "sm_client = boto3.client(\"sagemaker\") # To get image uri, create endpoint and so on"
   ]
  },
  {
   "cell_type": "markdown",
   "id": "85947f45-1226-401d-af8a-18e493dc073f",
   "metadata": {},
   "source": [
    "# Define required component for migration"
   ]
  },
  {
   "cell_type": "code",
   "execution_count": 15,
   "id": "da48ff31-5573-4fa2-abb8-f691285f5729",
   "metadata": {
    "tags": []
   },
   "outputs": [],
   "source": [
    "weight_data = 'model.joblib'\n",
    "inference_script = 'inference.py'\n",
    "zip_file = f\"tar -cvpzf model.tar.gz {weight_data} {inference_script}\""
   ]
  },
  {
   "cell_type": "markdown",
   "id": "7c292cca-87a0-4463-91a9-ef781cf10e93",
   "metadata": {
    "tags": []
   },
   "source": [
    "# Execute shell subprocess to zip model artifacts"
   ]
  },
  {
   "cell_type": "code",
   "execution_count": 16,
   "id": "d352e4ec-ff85-438d-b1a5-a1cb25ae93d3",
   "metadata": {
    "tags": []
   },
   "outputs": [],
   "source": [
    "shell_process = subprocess.Popen(zip_file.split(), stdout=subprocess.PIPE)"
   ]
  },
  {
   "cell_type": "code",
   "execution_count": 17,
   "id": "c0523040-1b1b-40c5-8e70-3ddb94fb6360",
   "metadata": {
    "tags": []
   },
   "outputs": [],
   "source": [
    "prefix = f'ToMigration/{strftime(\"%Y-%m-%d-%H-%M-%S\", gmtime())}'\n",
    "model_artifacts = f\"s3://{default_bucket}/{prefix}/model.tar.gz\""
   ]
  },
  {
   "cell_type": "code",
   "execution_count": 18,
   "id": "a5152be1-ed00-4ff1-9560-4c3c1f0fbe05",
   "metadata": {
    "tags": []
   },
   "outputs": [
    {
     "data": {
      "text/plain": [
       "'s3://sagemaker-ap-southeast-1-405392309789/ToMigration/2023-06-06-20-32-31/model.tar.gz'"
      ]
     },
     "execution_count": 18,
     "metadata": {},
     "output_type": "execute_result"
    }
   ],
   "source": [
    "model_artifacts"
   ]
  },
  {
   "cell_type": "markdown",
   "id": "74d0b5b8-4f37-4579-86af-d301369ff57a",
   "metadata": {},
   "source": [
    "# Upload packed model artifacts to S3"
   ]
  },
  {
   "cell_type": "code",
   "execution_count": 19,
   "id": "eae111c6-3a68-4120-aae9-8405c521f5bd",
   "metadata": {
    "tags": []
   },
   "outputs": [],
   "source": [
    "response = s3_client.meta.client.upload_file('model.tar.gz', default_bucket, f'{prefix}/model.tar.gz')"
   ]
  },
  {
   "cell_type": "markdown",
   "id": "f1fc2a51-0764-43cd-aec9-e4f83d9f43b1",
   "metadata": {},
   "source": [
    "# Get image URI from EC2 registry"
   ]
  },
  {
   "cell_type": "code",
   "execution_count": 20,
   "id": "1871e09d-bd08-4fbe-a861-2f4de3996d78",
   "metadata": {
    "tags": []
   },
   "outputs": [],
   "source": [
    "image_uri = sagemaker.image_uris.retrieve(\n",
    "                framework       = 'sklearn',\n",
    "                region          = region,\n",
    "                version         = '0.23-1',\n",
    "                py_version      = 'py3',\n",
    "                instance_type   = 'ml.t2.medium',\n",
    "                image_scope     = 'inference'\n",
    "            )"
   ]
  },
  {
   "cell_type": "markdown",
   "id": "28c197e9-81ea-4b19-a5aa-1e5c00d2c677",
   "metadata": {},
   "source": [
    "# Create Sagemaker Model (To be a medium for our pretrained weight)"
   ]
  },
  {
   "cell_type": "code",
   "execution_count": 21,
   "id": "4e122790-4839-4504-94a0-c43508c359fa",
   "metadata": {
    "tags": []
   },
   "outputs": [],
   "source": [
    "model_name = \"sm-sklearn\" + \"-\" + strftime(\"%Y-%m-%d-%H-%M-%S\", gmtime())\n",
    "create_model_resp = sm_client.create_model(\n",
    "    ModelName   = model_name,\n",
    "    Containers  = [\n",
    "        {\n",
    "            \"Image\"         : image_uri,\n",
    "            \"Mode\"          : \"SingleModel\",\n",
    "            \"ModelDataUrl\"  : model_artifacts,\n",
    "            \"Environment\"   : {\n",
    "                'SAGEMAKER_SUBMIT_DIRECTORY': model_artifacts,\n",
    "                'SAGEMAKER_PROGRAM': 'inference.py'\n",
    "            } \n",
    "        }\n",
    "    ],\n",
    "    ExecutionRoleArn = role,\n",
    ")"
   ]
  },
  {
   "cell_type": "code",
   "execution_count": 22,
   "id": "9abc7955-a191-438b-a930-1f016801d11e",
   "metadata": {
    "tags": []
   },
   "outputs": [
    {
     "data": {
      "text/plain": [
       "{'ModelArn': 'arn:aws:sagemaker:ap-southeast-1:405392309789:model/sm-sklearn-2023-06-06-20-32-36',\n",
       " 'ResponseMetadata': {'RequestId': 'e7fb7d43-53d7-468f-b1b7-c1a60aa80ed8',\n",
       "  'HTTPStatusCode': 200,\n",
       "  'HTTPHeaders': {'x-amzn-requestid': 'e7fb7d43-53d7-468f-b1b7-c1a60aa80ed8',\n",
       "   'content-type': 'application/x-amz-json-1.1',\n",
       "   'content-length': '97',\n",
       "   'date': 'Tue, 06 Jun 2023 20:32:36 GMT'},\n",
       "  'RetryAttempts': 0}}"
      ]
     },
     "execution_count": 22,
     "metadata": {},
     "output_type": "execute_result"
    }
   ],
   "source": [
    "create_model_resp"
   ]
  },
  {
   "cell_type": "markdown",
   "id": "528e08d1-72c0-47e9-94ef-caeae837df21",
   "metadata": {},
   "source": [
    "# Create endpoint config"
   ]
  },
  {
   "cell_type": "code",
   "execution_count": 23,
   "id": "4768f6f7-8cab-4950-8d1c-fde14890a3d0",
   "metadata": {
    "tags": []
   },
   "outputs": [],
   "source": [
    "config_name = \"sm-endpoint-config-sklearn\"+ \"-\" + strftime(\"%Y-%m-%d-%H-%M-%S\", gmtime())"
   ]
  },
  {
   "cell_type": "markdown",
   "id": "5e185a11-400f-4650-8fdc-6ecaa9c6d3df",
   "metadata": {},
   "source": [
    "## Realtime Mode"
   ]
  },
  {
   "cell_type": "code",
   "execution_count": 24,
   "id": "e9640b7d-6736-4133-a358-ac6e47409cde",
   "metadata": {
    "tags": []
   },
   "outputs": [],
   "source": [
    "endpoint_config_resp = sm_client.create_endpoint_config(\n",
    "                EndpointConfigName=config_name,\n",
    "                ProductionVariants=[\n",
    "                    {\n",
    "                        \"VariantName\": \"primaryvariant\",\n",
    "                        \"ModelName\": model_name,\n",
    "                        \"InstanceType\": 'ml.t2.medium',\n",
    "                        \"InitialInstanceCount\": 1\n",
    "                    },\n",
    "                ],\n",
    "    )"
   ]
  },
  {
   "cell_type": "code",
   "execution_count": 25,
   "id": "ced9383c-240f-4ba4-ade3-62cb7a3e4d5a",
   "metadata": {
    "tags": []
   },
   "outputs": [
    {
     "data": {
      "text/plain": [
       "{'EndpointConfigArn': 'arn:aws:sagemaker:ap-southeast-1:405392309789:endpoint-config/sm-endpoint-config-sklearn-2023-06-06-20-32-38',\n",
       " 'ResponseMetadata': {'RequestId': 'b1bf6823-5e51-4d40-a298-f636ad3969cf',\n",
       "  'HTTPStatusCode': 200,\n",
       "  'HTTPHeaders': {'x-amzn-requestid': 'b1bf6823-5e51-4d40-a298-f636ad3969cf',\n",
       "   'content-type': 'application/x-amz-json-1.1',\n",
       "   'content-length': '132',\n",
       "   'date': 'Tue, 06 Jun 2023 20:32:40 GMT'},\n",
       "  'RetryAttempts': 0}}"
      ]
     },
     "execution_count": 25,
     "metadata": {},
     "output_type": "execute_result"
    }
   ],
   "source": [
    "endpoint_config_resp"
   ]
  },
  {
   "cell_type": "markdown",
   "id": "675c13b3-dbcb-4c3b-81b7-334262f7067f",
   "metadata": {
    "jp-MarkdownHeadingCollapsed": true,
    "tags": []
   },
   "source": [
    "## Serverless Mode"
   ]
  },
  {
   "cell_type": "code",
   "execution_count": null,
   "id": "fb62ff9d-35b4-4c53-85d5-642a1fcc09ff",
   "metadata": {},
   "outputs": [],
   "source": [
    "endpoint_config_resp = sm_client.create_endpoint_config(\n",
    "                EndpointConfigName=config_name,\n",
    "                ProductionVariants=[\n",
    "                    {\n",
    "                        \"VariantName\": \"primaryvariant\",\n",
    "                        \"ModelName\": model_name,\n",
    "                        \"ServerlessConfig\": {\n",
    "                            \"MemorySizeInMB\": 4096,\n",
    "                            \"MaxConcurrency\": 1,\n",
    "                        },\n",
    "                    },\n",
    "                ],\n",
    "            )"
   ]
  },
  {
   "cell_type": "markdown",
   "id": "65cceba9-bc3a-4940-b580-33c1fa1e8da9",
   "metadata": {},
   "source": [
    "# Deploy endpoint"
   ]
  },
  {
   "cell_type": "code",
   "execution_count": 26,
   "id": "5cb5a873-7c3f-4cf5-bc61-32be1a6fe5b6",
   "metadata": {
    "tags": []
   },
   "outputs": [],
   "source": [
    "endpoint_name = \"sm-endpoint-sklearn\"+ \"-\" + strftime(\"%Y-%m-%d-%H-%M-%S\", gmtime())\n",
    "create_endpoint_resp = sm_client.create_endpoint(\n",
    "    EndpointName        = endpoint_name,\n",
    "    EndpointConfigName  = config_name,\n",
    ")"
   ]
  },
  {
   "cell_type": "code",
   "execution_count": 27,
   "id": "6a550449-ccb1-4647-916e-24286596f88a",
   "metadata": {},
   "outputs": [
    {
     "data": {
      "text/plain": [
       "{'EndpointArn': 'arn:aws:sagemaker:ap-southeast-1:405392309789:endpoint/sm-endpoint-sklearn-2023-06-06-20-32-45',\n",
       " 'ResponseMetadata': {'RequestId': '02fc8694-9450-4f02-a8f9-a9800e5e96b8',\n",
       "  'HTTPStatusCode': 200,\n",
       "  'HTTPHeaders': {'x-amzn-requestid': '02fc8694-9450-4f02-a8f9-a9800e5e96b8',\n",
       "   'content-type': 'application/x-amz-json-1.1',\n",
       "   'content-length': '112',\n",
       "   'date': 'Tue, 06 Jun 2023 20:32:45 GMT'},\n",
       "  'RetryAttempts': 0}}"
      ]
     },
     "execution_count": 27,
     "metadata": {},
     "output_type": "execute_result"
    }
   ],
   "source": [
    "create_endpoint_resp"
   ]
  },
  {
   "cell_type": "markdown",
   "id": "c4197c60-17c1-40ae-860b-6a6319b9a596",
   "metadata": {},
   "source": [
    "# Tracking create endpoint process"
   ]
  },
  {
   "cell_type": "code",
   "execution_count": 28,
   "id": "d09d060c-3671-4330-8844-723eb136fb07",
   "metadata": {
    "tags": []
   },
   "outputs": [
    {
     "name": "stdout",
     "output_type": "stream",
     "text": [
      "[LOG]STATUS: Creating\n",
      "[INFO]Working on create endpoint. Hold on tight\n",
      "[LOG]STATUS: Creating\n",
      "[INFO]Working on create endpoint. Hold on tight\n",
      "[LOG]STATUS: Creating\n",
      "[INFO]Working on create endpoint. Hold on tight\n",
      "[LOG]STATUS: Creating\n",
      "[INFO]Working on create endpoint. Hold on tight\n",
      "[LOG]STATUS: Creating\n",
      "[INFO]Working on create endpoint. Hold on tight\n",
      "[LOG]STATUS: Creating\n",
      "[INFO]Working on create endpoint. Hold on tight\n",
      "[LOG]STATUS: Creating\n",
      "[INFO]Working on create endpoint. Hold on tight\n",
      "[LOG]STATUS: Creating\n",
      "[INFO]Working on create endpoint. Hold on tight\n",
      "[LOG]STATUS: Creating\n",
      "[INFO]Working on create endpoint. Hold on tight\n",
      "[LOG]STATUS: Creating\n",
      "[INFO]Working on create endpoint. Hold on tight\n",
      "[LOG]STATUS: Creating\n",
      "[INFO]Working on create endpoint. Hold on tight\n",
      "[LOG]STATUS: Creating\n",
      "[INFO]Working on create endpoint. Hold on tight\n",
      "[LOG]STATUS: Creating\n",
      "[INFO]Working on create endpoint. Hold on tight\n",
      "[LOG]STATUS: Creating\n",
      "[INFO]Working on create endpoint. Hold on tight\n",
      "[LOG]STATUS: Creating\n",
      "[INFO]Working on create endpoint. Hold on tight\n",
      "[LOG]STATUS: Creating\n",
      "[INFO]Working on create endpoint. Hold on tight\n",
      "[LOG]STATUS: InService\n",
      "[INFO]Working on create endpoint. Hold on tight\n",
      "[INFO]Create endpoint sm-endpoint-sklearn-2023-06-06-20-32-45 successful\n"
     ]
    }
   ],
   "source": [
    "describe_endpoint_response = sm_client.describe_endpoint(EndpointName=endpoint_name)\n",
    "while describe_endpoint_response[\"EndpointStatus\"] == \"Creating\":\n",
    "    describe_endpoint_response = sm_client.describe_endpoint(EndpointName=endpoint_name)\n",
    "    print(f\"[LOG]STATUS: {describe_endpoint_response['EndpointStatus']}\")\n",
    "    print(f\"[INFO]Working on create endpoint. Hold on tight\")\n",
    "    time.sleep(15)\n",
    "    \n",
    "if describe_endpoint_response[\"EndpointStatus\"] == 'Failed':\n",
    "    print(f\"[INFO]Create endpoint {endpoint_name} failed\")\n",
    "else:\n",
    "    print(f\"[INFO]Create endpoint {endpoint_name} successful\")"
   ]
  },
  {
   "cell_type": "markdown",
   "id": "3ea9653a-3d3e-4f95-8424-b112b8f6d8c8",
   "metadata": {},
   "source": [
    "# Test endpoint invocation"
   ]
  },
  {
   "cell_type": "code",
   "execution_count": 29,
   "id": "c5543416-97ef-446b-afbd-2432554358ad",
   "metadata": {
    "tags": []
   },
   "outputs": [],
   "source": [
    "sm_runtime = boto_session.client(service_name='sagemaker-runtime')"
   ]
  },
  {
   "cell_type": "code",
   "execution_count": 55,
   "id": "1b747ca1-88ac-48ae-9597-e09239749c7c",
   "metadata": {
    "tags": []
   },
   "outputs": [],
   "source": [
    "data = [5.0, 3.6, 1.4, 0.2]\n",
    "payload = json.dumps({'Input':data})"
   ]
  },
  {
   "cell_type": "code",
   "execution_count": 57,
   "id": "36d92355-355d-4190-8898-cad1a3e2ca71",
   "metadata": {
    "tags": []
   },
   "outputs": [],
   "source": [
    "response = sm_runtime.invoke_endpoint(\n",
    "                            EndpointName=endpoint_name, \n",
    "                            ContentType='application/json',\n",
    "                            Body=bytes(payload, 'utf-8')\n",
    "                            )"
   ]
  },
  {
   "cell_type": "code",
   "execution_count": 58,
   "id": "d218b8e4-7b3a-4a9a-a4a1-0a64dcfa996e",
   "metadata": {
    "tags": []
   },
   "outputs": [],
   "source": [
    "assert response['ResponseMetadata']['HTTPStatusCode'] == 200"
   ]
  },
  {
   "cell_type": "code",
   "execution_count": 59,
   "id": "0a267810-b3bd-4661-85a1-5b0900c60a84",
   "metadata": {
    "tags": []
   },
   "outputs": [
    {
     "data": {
      "text/plain": [
       "{'Output': 'Setosa'}"
      ]
     },
     "execution_count": 59,
     "metadata": {},
     "output_type": "execute_result"
    }
   ],
   "source": [
    "json.loads(response['Body'].read().decode('utf-8'))"
   ]
  }
 ],
 "metadata": {
  "availableInstances": [
   {
    "_defaultOrder": 0,
    "_isFastLaunch": true,
    "category": "General purpose",
    "gpuNum": 0,
    "hideHardwareSpecs": false,
    "memoryGiB": 4,
    "name": "ml.t3.medium",
    "vcpuNum": 2
   },
   {
    "_defaultOrder": 1,
    "_isFastLaunch": false,
    "category": "General purpose",
    "gpuNum": 0,
    "hideHardwareSpecs": false,
    "memoryGiB": 8,
    "name": "ml.t3.large",
    "vcpuNum": 2
   },
   {
    "_defaultOrder": 2,
    "_isFastLaunch": false,
    "category": "General purpose",
    "gpuNum": 0,
    "hideHardwareSpecs": false,
    "memoryGiB": 16,
    "name": "ml.t3.xlarge",
    "vcpuNum": 4
   },
   {
    "_defaultOrder": 3,
    "_isFastLaunch": false,
    "category": "General purpose",
    "gpuNum": 0,
    "hideHardwareSpecs": false,
    "memoryGiB": 32,
    "name": "ml.t3.2xlarge",
    "vcpuNum": 8
   },
   {
    "_defaultOrder": 4,
    "_isFastLaunch": true,
    "category": "General purpose",
    "gpuNum": 0,
    "hideHardwareSpecs": false,
    "memoryGiB": 8,
    "name": "ml.m5.large",
    "vcpuNum": 2
   },
   {
    "_defaultOrder": 5,
    "_isFastLaunch": false,
    "category": "General purpose",
    "gpuNum": 0,
    "hideHardwareSpecs": false,
    "memoryGiB": 16,
    "name": "ml.m5.xlarge",
    "vcpuNum": 4
   },
   {
    "_defaultOrder": 6,
    "_isFastLaunch": false,
    "category": "General purpose",
    "gpuNum": 0,
    "hideHardwareSpecs": false,
    "memoryGiB": 32,
    "name": "ml.m5.2xlarge",
    "vcpuNum": 8
   },
   {
    "_defaultOrder": 7,
    "_isFastLaunch": false,
    "category": "General purpose",
    "gpuNum": 0,
    "hideHardwareSpecs": false,
    "memoryGiB": 64,
    "name": "ml.m5.4xlarge",
    "vcpuNum": 16
   },
   {
    "_defaultOrder": 8,
    "_isFastLaunch": false,
    "category": "General purpose",
    "gpuNum": 0,
    "hideHardwareSpecs": false,
    "memoryGiB": 128,
    "name": "ml.m5.8xlarge",
    "vcpuNum": 32
   },
   {
    "_defaultOrder": 9,
    "_isFastLaunch": false,
    "category": "General purpose",
    "gpuNum": 0,
    "hideHardwareSpecs": false,
    "memoryGiB": 192,
    "name": "ml.m5.12xlarge",
    "vcpuNum": 48
   },
   {
    "_defaultOrder": 10,
    "_isFastLaunch": false,
    "category": "General purpose",
    "gpuNum": 0,
    "hideHardwareSpecs": false,
    "memoryGiB": 256,
    "name": "ml.m5.16xlarge",
    "vcpuNum": 64
   },
   {
    "_defaultOrder": 11,
    "_isFastLaunch": false,
    "category": "General purpose",
    "gpuNum": 0,
    "hideHardwareSpecs": false,
    "memoryGiB": 384,
    "name": "ml.m5.24xlarge",
    "vcpuNum": 96
   },
   {
    "_defaultOrder": 12,
    "_isFastLaunch": false,
    "category": "General purpose",
    "gpuNum": 0,
    "hideHardwareSpecs": false,
    "memoryGiB": 8,
    "name": "ml.m5d.large",
    "vcpuNum": 2
   },
   {
    "_defaultOrder": 13,
    "_isFastLaunch": false,
    "category": "General purpose",
    "gpuNum": 0,
    "hideHardwareSpecs": false,
    "memoryGiB": 16,
    "name": "ml.m5d.xlarge",
    "vcpuNum": 4
   },
   {
    "_defaultOrder": 14,
    "_isFastLaunch": false,
    "category": "General purpose",
    "gpuNum": 0,
    "hideHardwareSpecs": false,
    "memoryGiB": 32,
    "name": "ml.m5d.2xlarge",
    "vcpuNum": 8
   },
   {
    "_defaultOrder": 15,
    "_isFastLaunch": false,
    "category": "General purpose",
    "gpuNum": 0,
    "hideHardwareSpecs": false,
    "memoryGiB": 64,
    "name": "ml.m5d.4xlarge",
    "vcpuNum": 16
   },
   {
    "_defaultOrder": 16,
    "_isFastLaunch": false,
    "category": "General purpose",
    "gpuNum": 0,
    "hideHardwareSpecs": false,
    "memoryGiB": 128,
    "name": "ml.m5d.8xlarge",
    "vcpuNum": 32
   },
   {
    "_defaultOrder": 17,
    "_isFastLaunch": false,
    "category": "General purpose",
    "gpuNum": 0,
    "hideHardwareSpecs": false,
    "memoryGiB": 192,
    "name": "ml.m5d.12xlarge",
    "vcpuNum": 48
   },
   {
    "_defaultOrder": 18,
    "_isFastLaunch": false,
    "category": "General purpose",
    "gpuNum": 0,
    "hideHardwareSpecs": false,
    "memoryGiB": 256,
    "name": "ml.m5d.16xlarge",
    "vcpuNum": 64
   },
   {
    "_defaultOrder": 19,
    "_isFastLaunch": false,
    "category": "General purpose",
    "gpuNum": 0,
    "hideHardwareSpecs": false,
    "memoryGiB": 384,
    "name": "ml.m5d.24xlarge",
    "vcpuNum": 96
   },
   {
    "_defaultOrder": 20,
    "_isFastLaunch": false,
    "category": "General purpose",
    "gpuNum": 0,
    "hideHardwareSpecs": true,
    "memoryGiB": 0,
    "name": "ml.geospatial.interactive",
    "supportedImageNames": [
     "sagemaker-geospatial-v1-0"
    ],
    "vcpuNum": 0
   },
   {
    "_defaultOrder": 21,
    "_isFastLaunch": true,
    "category": "Compute optimized",
    "gpuNum": 0,
    "hideHardwareSpecs": false,
    "memoryGiB": 4,
    "name": "ml.c5.large",
    "vcpuNum": 2
   },
   {
    "_defaultOrder": 22,
    "_isFastLaunch": false,
    "category": "Compute optimized",
    "gpuNum": 0,
    "hideHardwareSpecs": false,
    "memoryGiB": 8,
    "name": "ml.c5.xlarge",
    "vcpuNum": 4
   },
   {
    "_defaultOrder": 23,
    "_isFastLaunch": false,
    "category": "Compute optimized",
    "gpuNum": 0,
    "hideHardwareSpecs": false,
    "memoryGiB": 16,
    "name": "ml.c5.2xlarge",
    "vcpuNum": 8
   },
   {
    "_defaultOrder": 24,
    "_isFastLaunch": false,
    "category": "Compute optimized",
    "gpuNum": 0,
    "hideHardwareSpecs": false,
    "memoryGiB": 32,
    "name": "ml.c5.4xlarge",
    "vcpuNum": 16
   },
   {
    "_defaultOrder": 25,
    "_isFastLaunch": false,
    "category": "Compute optimized",
    "gpuNum": 0,
    "hideHardwareSpecs": false,
    "memoryGiB": 72,
    "name": "ml.c5.9xlarge",
    "vcpuNum": 36
   },
   {
    "_defaultOrder": 26,
    "_isFastLaunch": false,
    "category": "Compute optimized",
    "gpuNum": 0,
    "hideHardwareSpecs": false,
    "memoryGiB": 96,
    "name": "ml.c5.12xlarge",
    "vcpuNum": 48
   },
   {
    "_defaultOrder": 27,
    "_isFastLaunch": false,
    "category": "Compute optimized",
    "gpuNum": 0,
    "hideHardwareSpecs": false,
    "memoryGiB": 144,
    "name": "ml.c5.18xlarge",
    "vcpuNum": 72
   },
   {
    "_defaultOrder": 28,
    "_isFastLaunch": false,
    "category": "Compute optimized",
    "gpuNum": 0,
    "hideHardwareSpecs": false,
    "memoryGiB": 192,
    "name": "ml.c5.24xlarge",
    "vcpuNum": 96
   },
   {
    "_defaultOrder": 29,
    "_isFastLaunch": true,
    "category": "Accelerated computing",
    "gpuNum": 1,
    "hideHardwareSpecs": false,
    "memoryGiB": 16,
    "name": "ml.g4dn.xlarge",
    "vcpuNum": 4
   },
   {
    "_defaultOrder": 30,
    "_isFastLaunch": false,
    "category": "Accelerated computing",
    "gpuNum": 1,
    "hideHardwareSpecs": false,
    "memoryGiB": 32,
    "name": "ml.g4dn.2xlarge",
    "vcpuNum": 8
   },
   {
    "_defaultOrder": 31,
    "_isFastLaunch": false,
    "category": "Accelerated computing",
    "gpuNum": 1,
    "hideHardwareSpecs": false,
    "memoryGiB": 64,
    "name": "ml.g4dn.4xlarge",
    "vcpuNum": 16
   },
   {
    "_defaultOrder": 32,
    "_isFastLaunch": false,
    "category": "Accelerated computing",
    "gpuNum": 1,
    "hideHardwareSpecs": false,
    "memoryGiB": 128,
    "name": "ml.g4dn.8xlarge",
    "vcpuNum": 32
   },
   {
    "_defaultOrder": 33,
    "_isFastLaunch": false,
    "category": "Accelerated computing",
    "gpuNum": 4,
    "hideHardwareSpecs": false,
    "memoryGiB": 192,
    "name": "ml.g4dn.12xlarge",
    "vcpuNum": 48
   },
   {
    "_defaultOrder": 34,
    "_isFastLaunch": false,
    "category": "Accelerated computing",
    "gpuNum": 1,
    "hideHardwareSpecs": false,
    "memoryGiB": 256,
    "name": "ml.g4dn.16xlarge",
    "vcpuNum": 64
   },
   {
    "_defaultOrder": 35,
    "_isFastLaunch": false,
    "category": "Accelerated computing",
    "gpuNum": 1,
    "hideHardwareSpecs": false,
    "memoryGiB": 61,
    "name": "ml.p3.2xlarge",
    "vcpuNum": 8
   },
   {
    "_defaultOrder": 36,
    "_isFastLaunch": false,
    "category": "Accelerated computing",
    "gpuNum": 4,
    "hideHardwareSpecs": false,
    "memoryGiB": 244,
    "name": "ml.p3.8xlarge",
    "vcpuNum": 32
   },
   {
    "_defaultOrder": 37,
    "_isFastLaunch": false,
    "category": "Accelerated computing",
    "gpuNum": 8,
    "hideHardwareSpecs": false,
    "memoryGiB": 488,
    "name": "ml.p3.16xlarge",
    "vcpuNum": 64
   },
   {
    "_defaultOrder": 38,
    "_isFastLaunch": false,
    "category": "Accelerated computing",
    "gpuNum": 8,
    "hideHardwareSpecs": false,
    "memoryGiB": 768,
    "name": "ml.p3dn.24xlarge",
    "vcpuNum": 96
   },
   {
    "_defaultOrder": 39,
    "_isFastLaunch": false,
    "category": "Memory Optimized",
    "gpuNum": 0,
    "hideHardwareSpecs": false,
    "memoryGiB": 16,
    "name": "ml.r5.large",
    "vcpuNum": 2
   },
   {
    "_defaultOrder": 40,
    "_isFastLaunch": false,
    "category": "Memory Optimized",
    "gpuNum": 0,
    "hideHardwareSpecs": false,
    "memoryGiB": 32,
    "name": "ml.r5.xlarge",
    "vcpuNum": 4
   },
   {
    "_defaultOrder": 41,
    "_isFastLaunch": false,
    "category": "Memory Optimized",
    "gpuNum": 0,
    "hideHardwareSpecs": false,
    "memoryGiB": 64,
    "name": "ml.r5.2xlarge",
    "vcpuNum": 8
   },
   {
    "_defaultOrder": 42,
    "_isFastLaunch": false,
    "category": "Memory Optimized",
    "gpuNum": 0,
    "hideHardwareSpecs": false,
    "memoryGiB": 128,
    "name": "ml.r5.4xlarge",
    "vcpuNum": 16
   },
   {
    "_defaultOrder": 43,
    "_isFastLaunch": false,
    "category": "Memory Optimized",
    "gpuNum": 0,
    "hideHardwareSpecs": false,
    "memoryGiB": 256,
    "name": "ml.r5.8xlarge",
    "vcpuNum": 32
   },
   {
    "_defaultOrder": 44,
    "_isFastLaunch": false,
    "category": "Memory Optimized",
    "gpuNum": 0,
    "hideHardwareSpecs": false,
    "memoryGiB": 384,
    "name": "ml.r5.12xlarge",
    "vcpuNum": 48
   },
   {
    "_defaultOrder": 45,
    "_isFastLaunch": false,
    "category": "Memory Optimized",
    "gpuNum": 0,
    "hideHardwareSpecs": false,
    "memoryGiB": 512,
    "name": "ml.r5.16xlarge",
    "vcpuNum": 64
   },
   {
    "_defaultOrder": 46,
    "_isFastLaunch": false,
    "category": "Memory Optimized",
    "gpuNum": 0,
    "hideHardwareSpecs": false,
    "memoryGiB": 768,
    "name": "ml.r5.24xlarge",
    "vcpuNum": 96
   },
   {
    "_defaultOrder": 47,
    "_isFastLaunch": false,
    "category": "Accelerated computing",
    "gpuNum": 1,
    "hideHardwareSpecs": false,
    "memoryGiB": 16,
    "name": "ml.g5.xlarge",
    "vcpuNum": 4
   },
   {
    "_defaultOrder": 48,
    "_isFastLaunch": false,
    "category": "Accelerated computing",
    "gpuNum": 1,
    "hideHardwareSpecs": false,
    "memoryGiB": 32,
    "name": "ml.g5.2xlarge",
    "vcpuNum": 8
   },
   {
    "_defaultOrder": 49,
    "_isFastLaunch": false,
    "category": "Accelerated computing",
    "gpuNum": 1,
    "hideHardwareSpecs": false,
    "memoryGiB": 64,
    "name": "ml.g5.4xlarge",
    "vcpuNum": 16
   },
   {
    "_defaultOrder": 50,
    "_isFastLaunch": false,
    "category": "Accelerated computing",
    "gpuNum": 1,
    "hideHardwareSpecs": false,
    "memoryGiB": 128,
    "name": "ml.g5.8xlarge",
    "vcpuNum": 32
   },
   {
    "_defaultOrder": 51,
    "_isFastLaunch": false,
    "category": "Accelerated computing",
    "gpuNum": 1,
    "hideHardwareSpecs": false,
    "memoryGiB": 256,
    "name": "ml.g5.16xlarge",
    "vcpuNum": 64
   },
   {
    "_defaultOrder": 52,
    "_isFastLaunch": false,
    "category": "Accelerated computing",
    "gpuNum": 4,
    "hideHardwareSpecs": false,
    "memoryGiB": 192,
    "name": "ml.g5.12xlarge",
    "vcpuNum": 48
   },
   {
    "_defaultOrder": 53,
    "_isFastLaunch": false,
    "category": "Accelerated computing",
    "gpuNum": 4,
    "hideHardwareSpecs": false,
    "memoryGiB": 384,
    "name": "ml.g5.24xlarge",
    "vcpuNum": 96
   },
   {
    "_defaultOrder": 54,
    "_isFastLaunch": false,
    "category": "Accelerated computing",
    "gpuNum": 8,
    "hideHardwareSpecs": false,
    "memoryGiB": 768,
    "name": "ml.g5.48xlarge",
    "vcpuNum": 192
   },
   {
    "_defaultOrder": 55,
    "_isFastLaunch": false,
    "category": "Accelerated computing",
    "gpuNum": 8,
    "hideHardwareSpecs": false,
    "memoryGiB": 1152,
    "name": "ml.p4d.24xlarge",
    "vcpuNum": 96
   },
   {
    "_defaultOrder": 56,
    "_isFastLaunch": false,
    "category": "Accelerated computing",
    "gpuNum": 8,
    "hideHardwareSpecs": false,
    "memoryGiB": 1152,
    "name": "ml.p4de.24xlarge",
    "vcpuNum": 96
   }
  ],
  "instance_type": "ml.t3.medium",
  "kernelspec": {
   "display_name": "Python 3 (Data Science)",
   "language": "python",
   "name": "python3__SAGEMAKER_INTERNAL__arn:aws:sagemaker:ap-southeast-1:492261229750:image/datascience-1.0"
  },
  "language_info": {
   "codemirror_mode": {
    "name": "ipython",
    "version": 3
   },
   "file_extension": ".py",
   "mimetype": "text/x-python",
   "name": "python",
   "nbconvert_exporter": "python",
   "pygments_lexer": "ipython3",
   "version": "3.7.10"
  },
  "toc-showtags": false
 },
 "nbformat": 4,
 "nbformat_minor": 5
}
